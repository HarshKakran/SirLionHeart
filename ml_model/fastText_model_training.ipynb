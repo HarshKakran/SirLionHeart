{
  "nbformat": 4,
  "nbformat_minor": 2,
  "metadata": {
    "colab": {
      "name": "Hack21C_fastText.ipynb",
      "provenance": [],
      "collapsed_sections": []
    },
    "kernelspec": {
      "name": "python3",
      "display_name": "Python 3.8.8 64-bit ('base': conda)"
    },
    "language_info": {
      "name": "python",
      "version": "3.8.8",
      "mimetype": "text/x-python",
      "codemirror_mode": {
        "name": "ipython",
        "version": 3
      },
      "pygments_lexer": "ipython3",
      "nbconvert_exporter": "python",
      "file_extension": ".py"
    },
    "interpreter": {
      "hash": "9da5a1eb768521143534bf09b996f0d525d45d2d4b488be6c4304e80c1815fea"
    }
  },
  "cells": [
    {
      "cell_type": "markdown",
      "source": [
        "## Importing Libraries\n"
      ],
      "metadata": {
        "id": "dZnw5BnoIf3x"
      }
    },
    {
      "cell_type": "code",
      "execution_count": 1,
      "source": [
        "import pandas as pd"
      ],
      "outputs": [],
      "metadata": {
        "id": "FelIqguMQfut"
      }
    },
    {
      "cell_type": "markdown",
      "source": [
        "## Data Pre-Processing"
      ],
      "metadata": {
        "id": "adc62d9PIkL1"
      }
    },
    {
      "cell_type": "code",
      "execution_count": 2,
      "source": [
        "df = pd.read_csv('train.csv')\r\n",
        "val = pd.read_csv('test.csv')"
      ],
      "outputs": [],
      "metadata": {}
    },
    {
      "cell_type": "code",
      "execution_count": 3,
      "source": [
        "print(len(df))\r\n",
        "print(len(val))"
      ],
      "outputs": [
        {
          "output_type": "stream",
          "name": "stdout",
          "text": [
            "104322\n",
            "2002\n"
          ]
        }
      ],
      "metadata": {}
    },
    {
      "cell_type": "code",
      "execution_count": 4,
      "source": [
        "import re\r\n",
        "\r\n",
        "# clean text from noise\r\n",
        "def clean_text(text):\r\n",
        "    # filter to allow only alphabets\r\n",
        "    text = re.sub(r'[^a-zA-Z\\']', ' ', text)\r\n",
        "    \r\n",
        "    # remove Unicode characters\r\n",
        "    text = re.sub(r'[^\\x00-\\x7F]+', '', text)\r\n",
        "    \r\n",
        "    # convert to lowercase to maintain consistency\r\n",
        "    text = text.lower()\r\n",
        "       \r\n",
        "    return text\r\n",
        "\r\n",
        "df['text'] = df.text.apply(clean_text)\r\n",
        "val['text'] = val.text.apply(clean_text)"
      ],
      "outputs": [],
      "metadata": {}
    },
    {
      "cell_type": "code",
      "execution_count": 5,
      "source": [
        "import fasttext\r\n",
        "DATA_FILE = './fasttext_data.txt'\r\n",
        "#  Storing Dataset in txt\r\n",
        "with open(DATA_FILE, 'w', encoding=\"utf-8\") as fp:\r\n",
        "    for i in range(len(df)):\r\n",
        "        fp.write('__label__%s %s\\n' % (df['label'][i],\r\n",
        "                                       df['text'][i]))\r\n",
        "\r\n",
        "with open('./prediction.results', 'w', encoding=\"utf-8\") as fp:\r\n",
        "    for i in range(len(val)):\r\n",
        "        fp.write('__label__%s\\n' % val['label'][i])\r\n",
        "with open('./prediction.test', 'w', encoding=\"utf-8\") as fp:\r\n",
        "    for i in range(len(val)):\r\n",
        "        fp.write('%s\\n' % (val['text'][i]))"
      ],
      "outputs": [],
      "metadata": {
        "colab": {
          "base_uri": "https://localhost:8080/"
        },
        "id": "ElJQjE31TwuX",
        "outputId": "ae7692a6-8494-4738-9465-fef13528f322"
      }
    },
    {
      "cell_type": "markdown",
      "source": [
        "## Training and Testing fastText model"
      ],
      "metadata": {
        "id": "yPgM6rYWKJbQ"
      }
    },
    {
      "cell_type": "code",
      "execution_count": 6,
      "source": [
        "import fasttext\r\n",
        "model = fasttext.train_supervised(input='fasttext_data.txt', epoch=30, lr=0.4, wordNgrams=5, loss='ova')"
      ],
      "outputs": [],
      "metadata": {
        "id": "g_M6cnF2KP2e",
        "colab": {
          "base_uri": "https://localhost:8080/"
        },
        "outputId": "999a411a-33cf-49fd-cd20-a6d62b4acb34"
      }
    },
    {
      "cell_type": "code",
      "execution_count": 14,
      "source": [
        "model.save_model(\"model_bullying.bin\")"
      ],
      "outputs": [],
      "metadata": {}
    },
    {
      "cell_type": "code",
      "execution_count": 8,
      "source": [
        "classifier = fasttext.load_model(\"model_bullying.bin\")"
      ],
      "outputs": [
        {
          "output_type": "stream",
          "name": "stderr",
          "text": [
            "Warning : `load_model` does not return WordVectorModel or SupervisedModel any more, but a `FastText` object which is very similar.\n"
          ]
        }
      ],
      "metadata": {}
    },
    {
      "cell_type": "code",
      "execution_count": 9,
      "source": [
        "with open('prediction.test', 'r') as f:\r\n",
        "    x_test = [line.strip() for line in f]"
      ],
      "outputs": [],
      "metadata": {}
    },
    {
      "cell_type": "code",
      "execution_count": 10,
      "source": [
        "y_pred = []\r\n",
        "for i in x_test:\r\n",
        "    y_pred.append(classifier.predict(i)[0][0])"
      ],
      "outputs": [],
      "metadata": {
        "tags": []
      }
    },
    {
      "cell_type": "code",
      "execution_count": 11,
      "source": [
        "with open('prediction.results', 'r') as f:\r\n",
        "    y_true = [line.strip() for line in f]"
      ],
      "outputs": [],
      "metadata": {}
    },
    {
      "cell_type": "code",
      "execution_count": 12,
      "source": [
        "from sklearn.metrics import accuracy_score, confusion_matrix\r\n",
        "cm = confusion_matrix(y_true, y_pred)\r\n",
        "accuracy_score(y_true, y_pred)"
      ],
      "outputs": [
        {
          "output_type": "execute_result",
          "data": {
            "text/plain": [
              "0.9410589410589411"
            ]
          },
          "metadata": {},
          "execution_count": 12
        }
      ],
      "metadata": {}
    },
    {
      "cell_type": "code",
      "execution_count": 13,
      "source": [
        "\r\n",
        "cm"
      ],
      "outputs": [
        {
          "output_type": "execute_result",
          "data": {
            "text/plain": [
              "array([[961,  40],\n",
              "       [ 78, 923]], dtype=int64)"
            ]
          },
          "metadata": {},
          "execution_count": 13
        }
      ],
      "metadata": {}
    }
  ]
}